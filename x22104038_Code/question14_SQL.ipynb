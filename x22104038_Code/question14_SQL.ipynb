{
 "cells": [
  {
   "cell_type": "code",
   "execution_count": 5,
   "id": "804eb0c1",
   "metadata": {},
   "outputs": [
    {
     "name": "stderr",
     "output_type": "stream",
     "text": [
      "23/07/28 11:49:37 WARN SparkSession: Using an existing Spark session; only runtime SQL configurations will take effect.\n"
     ]
    }
   ],
   "source": [
    "# Importing necessary libraries and functions\n",
    "from pyspark.sql import SparkSession\n",
    "from pyspark.sql.functions import concat_ws, expr\n",
    "from pyspark.sql.types import StructType, StructField, StringType, FloatType, ShortType, ByteType, DateType, LongType\n",
    "\n",
    "# Createing a Spark session\n",
    "session = SparkSession.builder.appName(\"kevent\").getOrCreate()"
   ]
  },
  {
   "cell_type": "code",
   "execution_count": 6,
   "id": "02361555",
   "metadata": {},
   "outputs": [],
   "source": [
    "\n",
    "from pyspark.sql import SparkSession\n",
    "from pyspark.sql.functions import concat_ws, expr\n",
    "from pyspark.sql.types import StructType, StructField, StringType, FloatType, ShortType, ByteType, DateType, LongType\n",
    "\n",
    "# Defining the schema for the DataFrame\n",
    "small_schema = StructType([\n",
    "    StructField(\"alert_flag\", StringType()),\n",
    "    StructField(\"timestamp\", LongType()),\n",
    "    StructField(\"date\", StringType()),\n",
    "    StructField(\"node\", StringType()),\n",
    "    StructField(\"datetime\", StringType()),\n",
    "    StructField(\"repeated_node\", StringType()),\n",
    "    StructField(\"message_type\", StringType()),\n",
    "    StructField(\"system_component\", StringType()),\n",
    "    StructField(\"level\", StringType()),\n",
    "    StructField(\"message_content\", StringType())\n",
    "])\n",
    "\n",
    "\n"
   ]
  },
  {
   "cell_type": "code",
   "execution_count": 7,
   "id": "b593c0d2",
   "metadata": {},
   "outputs": [],
   "source": [
    "# Reading CSV data with specified schema into a DataFrame\n",
    "small_df = spark.read.csv(\n",
    "    \"file:/home/hduser/BGL.log\",\n",
    "    schema=small_schema,\n",
    "    sep=' ',\n",
    "    header=False\n",
    ")"
   ]
  },
  {
   "cell_type": "code",
   "execution_count": 8,
   "id": "fc60ead0",
   "metadata": {},
   "outputs": [],
   "source": [
    "\n",
    "from pyspark.sql import SparkSession\n",
    "from pyspark.sql.functions import concat_ws, expr\n",
    "from pyspark.sql.types import StructType, StructField, StringType, FloatType, ShortType, ByteType, DateType, LongType\n",
    "# Concatenating selected columns into a new column\n",
    "small_df = small_df.withColumn(\"joined_content\", expr(\"concat_ws(' ', array({}))\"\n",
    "                              .format(','.join(small_df.columns[9:]))))"
   ]
  },
  {
   "cell_type": "code",
   "execution_count": 9,
   "id": "b78f047a",
   "metadata": {},
   "outputs": [
    {
     "name": "stdout",
     "output_type": "stream",
     "text": [
      "root\n",
      " |-- alert_flag: string (nullable = true)\n",
      " |-- timestamp: long (nullable = true)\n",
      " |-- date: string (nullable = true)\n",
      " |-- node: string (nullable = true)\n",
      " |-- datetime: string (nullable = true)\n",
      " |-- repeated_node: string (nullable = true)\n",
      " |-- message_type: string (nullable = true)\n",
      " |-- system_component: string (nullable = true)\n",
      " |-- level: string (nullable = true)\n",
      " |-- message_content: string (nullable = true)\n",
      " |-- joined_content: string (nullable = false)\n",
      "\n"
     ]
    }
   ],
   "source": [
    "# Printing the schema of the DataFrame\n",
    "small_df.printSchema()"
   ]
  },
  {
   "cell_type": "code",
   "execution_count": 10,
   "id": "008c3981",
   "metadata": {},
   "outputs": [
    {
     "name": "stdout",
     "output_type": "stream",
     "text": [
      "root\n",
      " |-- alert_flag: string (nullable = true)\n",
      " |-- timestamp: long (nullable = true)\n",
      " |-- date: string (nullable = true)\n",
      " |-- node: string (nullable = true)\n",
      " |-- datetime: string (nullable = true)\n",
      " |-- repeated_node: string (nullable = true)\n",
      " |-- message_type: string (nullable = true)\n",
      " |-- system_component: string (nullable = true)\n",
      " |-- level: string (nullable = true)\n",
      " |-- message_content: string (nullable = true)\n",
      " |-- joined_content: string (nullable = false)\n",
      "\n"
     ]
    }
   ],
   "source": [
    "\n",
    "small_df.printSchema()"
   ]
  },
  {
   "cell_type": "code",
   "execution_count": 10,
   "id": "43d49893",
   "metadata": {},
   "outputs": [
    {
     "name": "stderr",
     "output_type": "stream",
     "text": [
      "\r\n",
      "[Stage 0:>                                                          (0 + 1) / 1]\r"
     ]
    },
    {
     "name": "stdout",
     "output_type": "stream",
     "text": [
      "+----------+----------+----------+-------------------+--------------------+-------------------+------------+----------------+-----+---------------+--------------+\n",
      "|alert_flag| timestamp|      date|               node|            datetime|      repeated_node|message_type|system_component|level|message_content|joined_content|\n",
      "+----------+----------+----------+-------------------+--------------------+-------------------+------------+----------------+-----+---------------+--------------+\n",
      "|         -|1117838570|2005.06.03|R02-M1-N0-C:J12-U11|2005-06-03-15.42....|R02-M1-N0-C:J12-U11|         RAS|          KERNEL| INFO|    instruction|   instruction|\n",
      "|         -|1117838570|2005.06.03|R02-M1-N0-C:J12-U11|2005-06-03-15.42....|R02-M1-N0-C:J12-U11|         RAS|          KERNEL| INFO|    instruction|   instruction|\n",
      "|         -|1117838570|2005.06.03|R02-M1-N0-C:J12-U11|2005-06-03-15.42....|R02-M1-N0-C:J12-U11|         RAS|          KERNEL| INFO|    instruction|   instruction|\n",
      "|         -|1117838570|2005.06.03|R02-M1-N0-C:J12-U11|2005-06-03-15.42....|R02-M1-N0-C:J12-U11|         RAS|          KERNEL| INFO|    instruction|   instruction|\n",
      "|         -|1117838570|2005.06.03|R02-M1-N0-C:J12-U11|2005-06-03-15.42....|R02-M1-N0-C:J12-U11|         RAS|          KERNEL| INFO|    instruction|   instruction|\n",
      "|         -|1117838571|2005.06.03|R02-M1-N0-C:J12-U11|2005-06-03-15.42....|R02-M1-N0-C:J12-U11|         RAS|          KERNEL| INFO|    instruction|   instruction|\n",
      "|         -|1117838571|2005.06.03|R02-M1-N0-C:J12-U11|2005-06-03-15.42....|R02-M1-N0-C:J12-U11|         RAS|          KERNEL| INFO|    instruction|   instruction|\n",
      "|         -|1117838571|2005.06.03|R02-M1-N0-C:J12-U11|2005-06-03-15.42....|R02-M1-N0-C:J12-U11|         RAS|          KERNEL| INFO|    instruction|   instruction|\n",
      "|         -|1117838571|2005.06.03|R02-M1-N0-C:J12-U11|2005-06-03-15.42....|R02-M1-N0-C:J12-U11|         RAS|          KERNEL| INFO|    instruction|   instruction|\n",
      "|         -|1117838571|2005.06.03|R02-M1-N0-C:J12-U11|2005-06-03-15.42....|R02-M1-N0-C:J12-U11|         RAS|          KERNEL| INFO|    instruction|   instruction|\n",
      "|         -|1117838571|2005.06.03|R02-M1-N0-C:J12-U11|2005-06-03-15.42....|R02-M1-N0-C:J12-U11|         RAS|          KERNEL| INFO|    instruction|   instruction|\n",
      "|         -|1117838572|2005.06.03|R02-M1-N0-C:J12-U11|2005-06-03-15.42....|R02-M1-N0-C:J12-U11|         RAS|          KERNEL| INFO|    instruction|   instruction|\n",
      "|         -|1117838572|2005.06.03|R02-M1-N0-C:J12-U11|2005-06-03-15.42....|R02-M1-N0-C:J12-U11|         RAS|          KERNEL| INFO|    instruction|   instruction|\n",
      "|         -|1117838572|2005.06.03|R02-M1-N0-C:J12-U11|2005-06-03-15.42....|R02-M1-N0-C:J12-U11|         RAS|          KERNEL| INFO|    instruction|   instruction|\n",
      "|         -|1117838572|2005.06.03|R02-M1-N0-C:J12-U11|2005-06-03-15.42....|R02-M1-N0-C:J12-U11|         RAS|          KERNEL| INFO|    instruction|   instruction|\n",
      "|         -|1117838572|2005.06.03|R02-M1-N0-C:J12-U11|2005-06-03-15.42....|R02-M1-N0-C:J12-U11|         RAS|          KERNEL| INFO|    instruction|   instruction|\n",
      "|         -|1117838572|2005.06.03|R02-M1-N0-C:J12-U11|2005-06-03-15.42....|R02-M1-N0-C:J12-U11|         RAS|          KERNEL| INFO|    instruction|   instruction|\n",
      "|         -|1117838572|2005.06.03|R02-M1-N0-C:J12-U11|2005-06-03-15.42....|R02-M1-N0-C:J12-U11|         RAS|          KERNEL| INFO|    instruction|   instruction|\n",
      "|         -|1117838573|2005.06.03|R02-M1-N0-C:J12-U11|2005-06-03-15.42....|R02-M1-N0-C:J12-U11|         RAS|          KERNEL| INFO|    instruction|   instruction|\n",
      "|         -|1117838573|2005.06.03|R02-M1-N0-C:J12-U11|2005-06-03-15.42....|R02-M1-N0-C:J12-U11|         RAS|          KERNEL| INFO|    instruction|   instruction|\n",
      "+----------+----------+----------+-------------------+--------------------+-------------------+------------+----------------+-----+---------------+--------------+\n",
      "only showing top 20 rows\n",
      "\n"
     ]
    },
    {
     "name": "stderr",
     "output_type": "stream",
     "text": [
      "\r\n",
      "                                                                                \r"
     ]
    }
   ],
   "source": [
    "small_df.show()"
   ]
  },
  {
   "cell_type": "code",
   "execution_count": null,
   "id": "8348ad2d",
   "metadata": {},
   "outputs": [],
   "source": []
  },
  {
   "cell_type": "code",
   "execution_count": 11,
   "id": "4dcda010",
   "metadata": {},
   "outputs": [],
   "source": [
    "# Creating a temporary view for the DataFrame\n",
    "small_df.createOrReplaceTempView(\"kevent\")"
   ]
  },
  {
   "cell_type": "code",
   "execution_count": 24,
   "id": "4f3e874e",
   "metadata": {},
   "outputs": [],
   "source": [
    "\n",
    "# Defining an SQL query to analyze the data\n",
    "SQLQuery = \"\"\"\n",
    "    SELECT node, COUNT(*) AS event_count\n",
    "    FROM\n",
    "        kevent\n",
    "    WHERE \n",
    "        alert_flag = 'KERNRTSP'\n",
    "    GROUP BY node\n",
    "    HAVING COUNT(*) = (\n",
    "        SELECT MIN(event_count)\n",
    "        FROM (\n",
    "            SELECT COUNT(*) AS event_count\n",
    "            FROM kevent\n",
    "            WHERE \n",
    "            alert_flag = 'KERNRTSP'\n",
    "            GROUP BY node\n",
    "        ) AS subquery\n",
    "    )\n",
    "\"\"\""
   ]
  },
  {
   "cell_type": "code",
   "execution_count": 25,
   "id": "e3b125d7",
   "metadata": {},
   "outputs": [
    {
     "name": "stderr",
     "output_type": "stream",
     "text": [
      "                                                                                \r"
     ]
    },
    {
     "name": "stdout",
     "output_type": "stream",
     "text": [
      "+-------------------+-----------+\n",
      "|               node|event_count|\n",
      "+-------------------+-----------+\n",
      "|R32-M0-NC-C:J05-U01|          1|\n",
      "|R26-M0-NB-C:J14-U11|          1|\n",
      "|R26-M0-N3-C:J11-U01|          1|\n",
      "|R27-M1-N9-C:J06-U01|          1|\n",
      "|R26-M1-N2-C:J06-U01|          1|\n",
      "|R26-M1-N1-C:J12-U01|          1|\n",
      "|R26-M1-NB-C:J17-U11|          1|\n",
      "|R26-M1-N0-C:J14-U11|          1|\n",
      "|R25-M0-N4-C:J13-U11|          1|\n",
      "|R37-M1-NB-C:J12-U01|          1|\n",
      "|R26-M0-ND-C:J17-U01|          1|\n",
      "|R26-M0-N5-C:J12-U01|          1|\n",
      "|R26-M0-N5-C:J02-U01|          1|\n",
      "|R27-M1-N7-C:J02-U11|          1|\n",
      "|R27-M0-N6-C:J05-U01|          1|\n",
      "|R27-M1-NA-C:J02-U01|          1|\n",
      "|R26-M1-NA-C:J04-U01|          1|\n",
      "|R26-M1-N7-C:J14-U01|          1|\n",
      "|R27-M1-N1-C:J17-U01|          1|\n",
      "|R26-M0-N7-C:J14-U11|          1|\n",
      "+-------------------+-----------+\n",
      "only showing top 20 rows\n",
      "\n"
     ]
    }
   ],
   "source": [
    "#Display output\n",
    "session.sql(SQLQuery).show()"
   ]
  },
  {
   "cell_type": "code",
   "execution_count": null,
   "id": "3a70c477",
   "metadata": {},
   "outputs": [],
   "source": []
  }
 ],
 "metadata": {
  "kernelspec": {
   "display_name": "Python 3 (ipykernel)",
   "language": "python",
   "name": "python3"
  },
  "language_info": {
   "codemirror_mode": {
    "name": "ipython",
    "version": 3
   },
   "file_extension": ".py",
   "mimetype": "text/x-python",
   "name": "python",
   "nbconvert_exporter": "python",
   "pygments_lexer": "ipython3",
   "version": "3.10.6"
  }
 },
 "nbformat": 4,
 "nbformat_minor": 5
}
